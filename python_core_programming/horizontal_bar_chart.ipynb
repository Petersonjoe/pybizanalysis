{
 "cells": [
  {
   "cell_type": "code",
   "execution_count": 1,
   "metadata": {},
   "outputs": [],
   "source": [
    "import numpy as np\n",
    "import matplotlib.pyplot as plt"
   ]
  },
  {
   "cell_type": "code",
   "execution_count": 10,
   "metadata": {},
   "outputs": [],
   "source": [
    "category_names = ['Strong disagree', 'Disagree', 'Neither agree nor disagree', 'Agree', 'Strongly agree']\n",
    "results = {\n",
    "    'Question 1': [10, 15, 17, 32, 26],\n",
    "    'Question 2': [26, 22, 29, 10, 13],\n",
    "    'Question 3': [35, 37, 7, 2, 19],\n",
    "    'Question 4': [32, 11, 9, 15, 33],\n",
    "    'Question 5': [21, 29, 5, 5, 40],\n",
    "    'Question 6': [8, 19, 5, 30, 38]\n",
    "}"
   ]
  },
  {
   "cell_type": "code",
   "execution_count": 8,
   "metadata": {},
   "outputs": [
    {
     "name": "stdout",
     "output_type": "stream",
     "text": [
      "dict_values([[10, 15, 17, 32, 16], [26, 22, 29, 10, 13], [35, 37, 7, 2, 19], [32, 11, 9, 15, 33], [21, 29, 5, 5, 40], [8, 19, 5, 30, 18]])\n"
     ]
    }
   ],
   "source": [
    "print(results.values())"
   ]
  },
  {
   "cell_type": "code",
   "execution_count": 11,
   "metadata": {},
   "outputs": [
    {
     "name": "stdout",
     "output_type": "stream",
     "text": [
      "transform results.values() with np.array to variable \"data\": \n",
      "[[10 15 17 32 26]\n",
      " [26 22 29 10 13]\n",
      " [35 37  7  2 19]\n",
      " [32 11  9 15 33]\n",
      " [21 29  5  5 40]\n",
      " [ 8 19  5 30 38]]\n",
      "see the effect of data.cumsum(): \n",
      "[[ 10  25  42  74 100]\n",
      " [ 26  48  77  87 100]\n",
      " [ 35  72  79  81 100]\n",
      " [ 32  43  52  67 100]\n",
      " [ 21  50  55  60 100]\n",
      " [  8  27  32  62 100]]\n",
      "data.shape: \n",
      "[6, 5] \n",
      "data.shape[1]: 5 \n",
      "what is the effect of plt.get_cmap()?\n",
      "iterate squence i is 0\n",
      "take the widths as\n",
      "[10 26 35 32 21  8]\n",
      "starts is\n",
      "[0 0 0 0 0 0]\n",
      "the next starts is ith column of data_cum add widths: \n",
      "[10 26 35 32 21  8]\n",
      "color is:\n",
      "[ 0.89888504  0.30549789  0.20676663  1.        ]\n",
      "iterate squence i is 1\n",
      "take the widths as\n",
      "[15 22 37 11 29 19]\n",
      "starts is\n",
      "[10 26 35 32 21  8]\n",
      "the next starts is ith column of data_cum add widths: \n",
      "[25 48 72 43 50 27]\n",
      "color is:\n",
      "[ 0.99315648  0.73233372  0.42237601  1.        ]\n",
      "iterate squence i is 2\n",
      "take the widths as\n",
      "[17 29  7  9  5  5]\n",
      "starts is\n",
      "[25 48 72 43 50 27]\n",
      "the next starts is ith column of data_cum add widths: \n",
      "[42 77 79 52 55 32]\n",
      "color is:\n",
      "[ 0.99707805  0.9987697   0.74502115  1.        ]\n",
      "iterate squence i is 3\n",
      "take the widths as\n",
      "[32 10  2 15  5 30]\n",
      "starts is\n",
      "[42 77 79 52 55 32]\n",
      "the next starts is ith column of data_cum add widths: \n",
      "[74 87 81 67 60 62]\n",
      "color is:\n",
      "[ 0.70196078  0.87297193  0.44867359  1.        ]\n",
      "iterate squence i is 4\n",
      "take the widths as\n",
      "[26 13 19 33 40 38]\n",
      "starts is\n",
      "[74 87 81 67 60 62]\n",
      "the next starts is ith column of data_cum add widths: \n",
      "[100 100 100 100 100 100]\n",
      "color is:\n",
      "[ 0.24805844  0.66720492  0.3502499   1.        ]\n"
     ]
    },
    {
     "data": {
      "image/png": "[encoded data removed]",
      "text/plain": [
       "<matplotlib.figure.Figure at 0x2ef9b0c7d30>"
      ]
     },
     "metadata": {
      "needs_background": "light"
     },
     "output_type": "display_data"
    }
   ],
   "source": [
    "def survey(results, category_names):\n",
    "    labels = list(results.keys())\n",
    "    data = np.array(list(results.values()))  # 这一步可以看一下结果到底是要做什么\n",
    "    print('transform results.values() with np.array to variable \"data\": \\n{0}'.format(data))\n",
    "    data_cum = data.cumsum(axis=1)  # 这一步可以看一下效果\n",
    "    print('see the effect of data.cumsum(): \\n{0}'.format(data_cum))\n",
    "    print(f'data.shape: \\n{[i for i in data.shape]} \\ndata.shape[1]: {data.shape[1]} \\nwhat is the effect of plt.get_cmap()?')\n",
    "    category_colors = plt.get_cmap('RdYlGn')(np.linspace(0.15, 0.85, data.shape[1]))  # 这一步需要看一下get_cmap & data.shape[1]是什么作用\n",
    "    \n",
    "    fig, ax = plt.subplots(figsize=(9.2, 5))\n",
    "    ax.invert_yaxis()\n",
    "    ax.xaxis.set_visible(False)\n",
    "    ax.set_xlim(0, np.sum(data, axis=1).max())\n",
    "    \n",
    "    for i, (colname, color) in enumerate(zip(category_names, category_colors)):  # zip 是一个map reduce函数，在这里是怎么使用的\n",
    "        widths = data[:, i]  # 取data的第i列数据\n",
    "        print(f'iterate squence i is {i}\\ntake the widths as\\n{widths}')\n",
    "        starts = data_cum[:, i] - widths  # 取最新的起始值，加上widths就是第i列data的长度\n",
    "        print(f'starts is\\n{starts}\\nthe next starts is ith column of data_cum add widths: \\n{data_cum[:,i]}')\n",
    "        ax.barh(labels, widths, left=starts, height=0.5, label=colname, color=color)\n",
    "        xcenters = starts + widths / 2  # 这个xcenters主要是为了标记百分比显示的位置\n",
    "        \n",
    "        print(f'color is:\\n{color}')\n",
    "        r, g, b, _ = color  # 所以color到底是什么？\n",
    "        text_color = 'white' if r*g*b < 0.5 else 'darkgrey'  # 如果背景色比较深(r*g*b < 0.5)，则用白色；如果背景色比较浅，用深灰色\n",
    "        for y, (x, c) in enumerate(zip(xcenters, widths)):\n",
    "            ax.text(x, y, str(int(c)), ha='center', va='center', color=text_color)\n",
    "        \n",
    "    ax.legend(ncol=len(category_names), bbox_to_anchor=(0,1), loc='lower left', fontsize='small')\n",
    "    \n",
    "    return fig, ax\n",
    "\n",
    "survey(results, category_names)\n",
    "plt.show()"
   ]
  },
  {
   "cell_type": "code",
   "execution_count": null,
   "metadata": {},
   "outputs": [],
   "source": []
  }
 ],
 "metadata": {
  "kernelspec": {
   "display_name": "Python 3",
   "language": "python",
   "name": "python3"
  },
  "language_info": {
   "codemirror_mode": {
    "name": "ipython",
    "version": 3
   },
   "file_extension": ".py",
   "mimetype": "text/x-python",
   "name": "python",
   "nbconvert_exporter": "python",
   "pygments_lexer": "ipython3",
   "version": "3.6.5"
  }
 },
 "nbformat": 4,
 "nbformat_minor": 4
}
