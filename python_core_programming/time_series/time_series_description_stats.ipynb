{
 "cells": [
  {
   "cell_type": "code",
   "execution_count": 1,
   "metadata": {},
   "outputs": [],
   "source": [
    "import numpy as np\n",
    "import pandas as pd\n",
    "import matplotlib.pyplot as plt"
   ]
  },
  {
   "cell_type": "code",
   "execution_count": 2,
   "metadata": {},
   "outputs": [],
   "source": [
    "tute1 = pd.read_csv(\"./tute1.csv\")"
   ]
  },
  {
   "cell_type": "code",
   "execution_count": 3,
   "metadata": {},
   "outputs": [
    {
     "name": "stdout",
     "output_type": "stream",
     "text": [
      "   Unnamed: 0   Sales  AdBudget    GDP\n",
      "0      Mar-81  1020.2     659.2  251.8\n",
      "1      Jun-81   889.2     589.0  290.9\n",
      "2      Sep-81   795.0     512.5  290.8\n",
      "3      Dec-81  1003.9     614.1  292.4\n",
      "4      Mar-82  1057.7     647.2  279.1\n",
      "5      Jun-82   944.4     602.0  254.0\n",
      "6      Sep-82   778.5     530.7  295.6\n",
      "7      Dec-82   932.5     608.4  271.7\n",
      "8      Mar-83   996.5     637.9  259.6\n",
      "9      Jun-83   907.7     582.4  280.5\n",
      "10     Sep-83   735.1     506.8  287.2\n",
      "11     Dec-83   958.1     606.7  278.0\n",
      "12     Mar-84  1034.1     658.7  256.8\n",
      "13     Jun-84   992.8     614.9  271.0\n",
      "14     Sep-84   791.7     489.9  300.9\n",
      "15     Dec-84   914.2     586.5  289.8\n",
      "16     Mar-85  1106.5     663.0  266.8\n",
      "17     Jun-85   985.1     591.7  273.7\n",
      "18     Sep-85   823.9     502.2  301.3\n",
      "19     Dec-85  1025.1     616.4  285.6\n",
      "20     Mar-86  1064.7     647.1  270.6\n",
      "21     Jun-86   981.9     615.5  274.6\n",
      "22     Sep-86   828.3     514.8  299.7\n",
      "23     Dec-86   940.7     609.1  275.9\n",
      "24     Mar-87   991.1     641.3  279.3\n",
      "25     Jun-87  1021.2     620.2  290.8\n",
      "26     Sep-87   796.7     511.2  295.6\n",
      "27     Dec-87   986.6     621.3  271.9\n",
      "28     Mar-88  1054.2     645.3  267.4\n",
      "29     Jun-88  1018.7     616.0  281.0\n",
      "..        ...     ...       ...    ...\n",
      "70     Sep-98   805.6     497.0  292.1\n",
      "71     Dec-98   934.1     602.8  287.6\n",
      "72     Mar-99  1081.7     647.3  258.0\n",
      "73     Jun-99  1062.3     612.5  282.9\n",
      "74     Sep-99   798.8     492.2  295.0\n",
      "75     Dec-99  1014.3     610.8  271.2\n",
      "76     Mar-00  1049.5     646.5  275.4\n",
      "77     Jun-00   961.7     603.3  284.0\n",
      "78     Sep-00   793.4     503.8  300.9\n",
      "79     Dec-00   872.3     598.3  277.4\n",
      "80     Mar-01  1014.2     649.4  273.8\n",
      "81     Jun-01   952.6     620.2  288.4\n",
      "82     Sep-01   792.4     497.9  283.4\n",
      "83     Dec-01   922.3     609.2  273.4\n",
      "84     Mar-02  1055.9     665.9  271.5\n",
      "85     Jun-02   906.2     600.4  283.6\n",
      "86     Sep-02   811.2     502.3  290.6\n",
      "87     Dec-02  1005.8     605.6  289.1\n",
      "88     Mar-03  1013.8     647.6  282.2\n",
      "89     Jun-03   905.6     583.5  285.6\n",
      "90     Sep-03   957.3     502.5  304.0\n",
      "91     Dec-03  1059.5     625.9  271.5\n",
      "92     Mar-04  1090.6     648.7  263.9\n",
      "93     Jun-04   998.9     610.7  288.3\n",
      "94     Sep-04   866.6     519.1  290.2\n",
      "95     Dec-04  1018.7     634.9  284.0\n",
      "96     Mar-05  1112.5     663.1  270.9\n",
      "97     Jun-05   997.4     583.3  294.7\n",
      "98     Sep-05   826.8     508.6  292.2\n",
      "99     Dec-05   992.6     634.2  255.1\n",
      "\n",
      "[100 rows x 4 columns]\n"
     ]
    }
   ],
   "source": [
    "print(tute1)"
   ]
  },
  {
   "cell_type": "code",
   "execution_count": null,
   "metadata": {},
   "outputs": [],
   "source": []
  }
 ],
 "metadata": {
  "kernelspec": {
   "display_name": "Python 3",
   "language": "python",
   "name": "python3"
  },
  "language_info": {
   "codemirror_mode": {
    "name": "ipython",
    "version": 3
   },
   "file_extension": ".py",
   "mimetype": "text/x-python",
   "name": "python",
   "nbconvert_exporter": "python",
   "pygments_lexer": "ipython3",
   "version": "3.6.5"
  }
 },
 "nbformat": 4,
 "nbformat_minor": 4
}
