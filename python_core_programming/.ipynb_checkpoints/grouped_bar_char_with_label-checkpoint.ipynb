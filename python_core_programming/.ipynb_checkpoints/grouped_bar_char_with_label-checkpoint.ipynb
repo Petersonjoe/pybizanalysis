{
 "cells": [
  {
   "cell_type": "code",
   "execution_count": 1,
   "metadata": {
    "ExecuteTime": {
     "end_time": "2020-07-22T08:31:30.662207Z",
     "start_time": "2020-07-22T08:31:29.933178Z"
    }
   },
   "outputs": [],
   "source": [
    "import matplotlib\n",
    "import matplotlib.pyplot as plt\n",
    "import numpy as np"
   ]
  },
  {
   "cell_type": "code",
   "execution_count": 2,
   "metadata": {
    "ExecuteTime": {
     "end_time": "2020-07-22T08:32:30.082072Z",
     "start_time": "2020-07-22T08:32:30.077069Z"
    }
   },
   "outputs": [],
   "source": [
    "labels = ['G1', 'G2', 'G3', 'G4', 'G5']\n",
    "men_means = [20, 34, 30, 35, 27]\n",
    "women_means = [25, 32, 34, 20, 25]\n",
    "\n",
    "x = np.arange(len(labels))  # the label locations\n",
    "width = 0.35  # the width of the bars"
   ]
  },
  {
   "cell_type": "code",
   "execution_count": 4,
   "metadata": {
    "ExecuteTime": {
     "end_time": "2020-07-22T08:34:50.868706Z",
     "start_time": "2020-07-22T08:34:50.862580Z"
    }
   },
   "outputs": [
    {
     "name": "stdout",
     "output_type": "stream",
     "text": [
      "[0 1 2 3 4]\n",
      "[-0.175  0.825  1.825  2.825  3.825]\n",
      "[ 0.175  1.175  2.175  3.175  4.175]\n"
     ]
    }
   ],
   "source": [
    "print(x)\n",
    "print(x - width/2)\n",
    "print(x + width/2)"
   ]
  },
  {
   "cell_type": "code",
   "execution_count": 5,
   "metadata": {
    "ExecuteTime": {
     "end_time": "2020-07-22T08:45:19.989043Z",
     "start_time": "2020-07-22T08:45:19.452039Z"
    },
    "code_folding": []
   },
   "outputs": [
    {
     "data": {
      "image/png": "[encoded data removed]",
      "text/plain": [
       "<matplotlib.figure.Figure at 0x1e6ffc287b8>"
      ]
     },
     "metadata": {
      "needs_background": "light"
     },
     "output_type": "display_data"
    }
   ],
   "source": [
    "fig, ax = plt.subplots()\n",
    "\n",
    "# rect ~ rectangles \n",
    "# so the `ax.bar` will reture a handler that contains `len(x)` rectangles in bar chart\n",
    "# here rects1 has 5 rectangles that are each bar in the chart, then one can operate each bar rectangle\n",
    "rects1 = ax.bar(x - width/2, men_means, width, label='Men')\n",
    "rects2 = ax.bar(x + width/2, women_means, width, label='Women')\n",
    "\n",
    "# Add some text for labels, title and custom x-axis tick labels, etc.\n",
    "ax.set_ylabel('Scores')\n",
    "ax.set_title('Scores by group and gender')\n",
    "ax.set_xticks(x)  # force to display the x axis anchored values to 0, 1, 2, 3, 4\n",
    "ax.set_xticklabels(labels)  # force to display the x axis anchored values to label strings\n",
    "ax.legend()\n",
    "\n",
    "def autolabel(rects):  # when calling this function, rects is a bar chart object\n",
    "    \"\"\"Attach a text label above each bar in *rects*, displaying its height.\"\"\"\n",
    "    for rect in rects:\n",
    "        height = rect.get_height()\n",
    "        ax.annotate('{}'.format(height),  # annotate ~ comment\n",
    "                    xy=(rect.get_x() + rect.get_width() / 2, height),\n",
    "                    xytext=(0, 3),  # 3 points vertical offset\n",
    "                    textcoords=\"offset points\",\n",
    "                    ha='center', va='bottom')\n",
    "\n",
    "autolabel(rects1)\n",
    "autolabel(rects2)\n",
    "\n",
    "fig.tight_layout()\n",
    "\n",
    "plt.show()"
   ]
  },
  {
   "cell_type": "code",
   "execution_count": 8,
   "metadata": {
    "ExecuteTime": {
     "end_time": "2020-07-22T08:53:21.983608Z",
     "start_time": "2020-07-22T08:53:21.972605Z"
    }
   },
   "outputs": [
    {
     "name": "stdout",
     "output_type": "stream",
     "text": [
      "Rectangle(xy=(-0.35, 0), width=0.35, height=20, angle=0)\n",
      "-0.35 0 10.0\n",
      "-0.175\n",
      "Rectangle(xy=(0.65, 0), width=0.35, height=34, angle=0)\n",
      "0.65 0 17.0\n",
      "0.825\n",
      "Rectangle(xy=(1.65, 0), width=0.35, height=30, angle=0)\n",
      "1.65 0 15.0\n",
      "1.825\n",
      "Rectangle(xy=(2.65, 0), width=0.35, height=35, angle=0)\n",
      "2.65 0 17.5\n",
      "2.825\n",
      "Rectangle(xy=(3.65, 0), width=0.35, height=27, angle=0)\n",
      "3.65 0 13.5\n",
      "3.825\n"
     ]
    }
   ],
   "source": [
    "for rect in rects1:\n",
    "    print(rect)\n",
    "    print(rect.get_x(), rect.get_y(), rect.get_height()/2)\n",
    "    print(rect.get_x() + rect.get_width()/2)"
   ]
  },
  {
   "cell_type": "code",
   "execution_count": null,
   "metadata": {},
   "outputs": [],
   "source": []
  }
 ],
 "metadata": {
  "kernelspec": {
   "display_name": "Python 3",
   "language": "python",
   "name": "python3"
  },
  "language_info": {
   "codemirror_mode": {
    "name": "ipython",
    "version": 3
   },
   "file_extension": ".py",
   "mimetype": "text/x-python",
   "name": "python",
   "nbconvert_exporter": "python",
   "pygments_lexer": "ipython3",
   "version": "3.6.5"
  },
  "latex_envs": {
   "LaTeX_envs_menu_present": true,
   "autoclose": false,
   "autocomplete": true,
   "bibliofile": "biblio.bib",
   "cite_by": "apalike",
   "current_citInitial": 1,
   "eqLabelWithNumbers": true,
   "eqNumInitial": 1,
   "hotkeys": {
    "equation": "Ctrl-E",
    "itemize": "Ctrl-I"
   },
   "labels_anchors": false,
   "latex_user_defs": false,
   "report_style_numbering": false,
   "user_envs_cfg": false
  },
  "varInspector": {
   "cols": {
    "lenName": 16,
    "lenType": 16,
    "lenVar": 40
   },
   "kernels_config": {
    "python": {
     "delete_cmd_postfix": "",
     "delete_cmd_prefix": "del ",
     "library": "var_list.py",
     "varRefreshCmd": "print(var_dic_list())"
    },
    "r": {
     "delete_cmd_postfix": ") ",
     "delete_cmd_prefix": "rm(",
     "library": "var_list.r",
     "varRefreshCmd": "cat(var_dic_list()) "
    }
   },
   "types_to_exclude": [
    "module",
    "function",
    "builtin_function_or_method",
    "instance",
    "_Feature"
   ],
   "window_display": false
  }
 },
 "nbformat": 4,
 "nbformat_minor": 2
}
